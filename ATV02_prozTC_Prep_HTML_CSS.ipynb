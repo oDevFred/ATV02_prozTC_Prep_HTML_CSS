{
  "nbformat": 4,
  "nbformat_minor": 0,
  "metadata": {
    "colab": {
      "provenance": []
    },
    "kernelspec": {
      "name": "python3",
      "display_name": "Python 3"
    },
    "language_info": {
      "name": "python"
    }
  },
  "cells": [
    {
      "cell_type": "markdown",
      "source": [
        "# **Atividade 2**\n",
        "\n",
        "Copie o array apresentado embaixo no seu editor de código, e imprima no terminal: a quantidade de elementos que ele possui, o dado salvo no índice 2, o dado salvo no índice 9, e dado salvo no índice 14.\n",
        "\n",
        "lista_musicos = [ 'Djavan', 'Roberto Carlos', 'Elis Regina', 'Tom Jobim', 'Milton Nascimento', 'Chico Buarque', 'Nara Leão', 'Pitty', 'Simonal', 'Moacir Santos', 'Caetano Veloso', 'Elza Soares', 'Paulinho da Viola', 'Yamandú Costa', 'Gal Costa']"
      ],
      "metadata": {
        "id": "0TeF4lXkC5Q_"
      }
    },
    {
      "cell_type": "code",
      "execution_count": 4,
      "metadata": {
        "colab": {
          "base_uri": "https://localhost:8080/"
        },
        "id": "yCdEH1dmC37n",
        "outputId": "5255a19a-a384-4eaf-d8c1-ccdcf24acce0"
      },
      "outputs": [
        {
          "output_type": "stream",
          "name": "stdout",
          "text": [
            "15\n",
            "Elis Regina\n",
            "Moacir Santos\n",
            "Gal Costa\n"
          ]
        }
      ],
      "source": [
        "lista_musicos = [ 'Djavan', 'Roberto Carlos', 'Elis Regina', 'Tom Jobim', 'Milton Nascimento', 'Chico Buarque', 'Nara Leão', 'Pitty', 'Simonal', 'Moacir Santos', 'Caetano Veloso', 'Elza Soares', 'Paulinho da Viola', 'Yamandú Costa', 'Gal Costa'];\n",
        "\n",
        "qtd_elementos = len(lista_musicos);\n",
        "index2 = lista_musicos[2];\n",
        "index9 = lista_musicos[9];\n",
        "index14 = lista_musicos[14];\n",
        "\n",
        "print(qtd_elementos);\n",
        "print(index2);\n",
        "print(index9);\n",
        "print(index14);\n"
      ]
    }
  ]
}